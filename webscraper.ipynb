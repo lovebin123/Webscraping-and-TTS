{
 "cells": [
  {
   "cell_type": "code",
   "execution_count": 2,
   "metadata": {},
   "outputs": [],
   "source": [
    "!pip install webdriver_manager #Install the necessary dependencies\n",
    "!pip install selenium\n",
    "!pip install pandas\n",
    "!pip install gtts\n"
   ]
  },
  {
   "cell_type": "code",
   "execution_count": 3,
   "metadata": {},
   "outputs": [
    {
     "name": "stdout",
     "output_type": "stream",
     "text": [
      "^C\n"
     ]
    }
   ],
   "source": [
    "from selenium import webdriver\n",
    "import pandas as pd\n",
    "import time\n",
    "from selenium.webdriver.common.by import By\n",
    "from selenium.webdriver.chrome.service import Service\n",
    "from selenium.webdriver.support.ui import Select\n",
    "from bs4 import BeautifulSoup\n",
    "from webdriver_manager.chrome import ChromeDriverManager \n",
    "from selenium.webdriver.support.ui import WebDriverWait\n",
    "from selenium.webdriver.support import expected_conditions as EC\n"
   ]
  },
  {
   "cell_type": "code",
   "execution_count": 3,
   "metadata": {},
   "outputs": [],
   "source": [
    "service=Service(ChromeDriverManager().install())        #Initialize the selenium webdriver\n",
    "options=webdriver.ChromeOptions()\n",
    "options.add_experimental_option('excludeSwitches', ['enable-logging'])\n",
    "options.add_argument('--headless=chrome')        #Here we will be running in headless mode. To see browser automation remove this option"
   ]
  },
  {
   "cell_type": "code",
   "execution_count": 4,
   "metadata": {},
   "outputs": [],
   "source": [
    "driver = webdriver.Chrome(service=service,options=options)\n",
    "driver.get('https://live.bible.is/bible/MALBCM/MAT/1')     "
   ]
  },
  {
   "cell_type": "code",
   "execution_count": 1,
   "metadata": {},
   "outputs": [],
   "source": [
    "books_of_new_testament = [        #Initializing the ids of new testament\n",
    "    \"മത്തായിMAT\",\n",
    "    \"മർക്കൊസ്MRK\",\n",
    "    \"ലൂക്കൊസ്LUK\",\n",
    "    \"യോഹന്നാൻJHN\",\n",
    "    \"അപ്പൊ. പ്രവൃത്തികൾACT\",\n",
    "    \"റോമർROM\",\n",
    "    \"1. കൊരിന്ത്യർ1CO\",\n",
    "    \"2. കൊരിന്ത്യർ2CO\",\n",
    "    \"ഗലാത്യർGAL\",\n",
    "    \"എഫെസ്യർEPH\",\n",
    "    \"ഫിലിപ്പിയർPHP\",\n",
    "    \"കൊലൊസ്സ്യർCOL\",\n",
    "    \"1. തെസ്സലൊനീക്യർ1TH\",\n",
    "    \"2. തെസ്സലൊനീക്യർ2TH\",\n",
    "    \"1. തിമൊഥെയൊസ്1TI\",\n",
    "    \"2. തിമൊഥെയൊസ്2TI\",\n",
    "    \"തീത്തൊസ്TIT\",\n",
    "    \"ഫിലേമോൻPHM\",\n",
    "    \"എബ്രായർHEB\",\n",
    "    \"യാക്കോബ്JAS\",\n",
    "    \"1. പത്രൊസ്1PE\",\n",
    "    \"2. പത്രൊസ്2PE\",\n",
    "    \"1. യോഹന്നാൻ1JN\",\n",
    "    \"2. യോഹന്നാൻ2JN\",\n",
    "    \"3. യോഹന്നാൻ3JN\",\n",
    "    \"യൂദാJUD\",\n",
    "    \"വെളിപ്പാടുREV\"\n",
    "]\n",
    "\n",
    "\n",
    "sizes=[28,16,24,21,28,16,16,13,6,6,4,4,5,3,6,4,3,1,13,5,5,3,5,1,1,1,22]   #Initializing the no of chapters in each book of new testament"
   ]
  },
  {
   "cell_type": "code",
   "execution_count": 140,
   "metadata": {},
   "outputs": [
    {
     "data": {
      "text/plain": [
       "27"
      ]
     },
     "execution_count": 140,
     "metadata": {},
     "output_type": "execute_result"
    }
   ],
   "source": [
    "len(books_of_new_testament)"
   ]
  },
  {
   "cell_type": "code",
   "execution_count": 6,
   "metadata": {},
   "outputs": [
    {
     "name": "stdout",
     "output_type": "stream",
     "text": [
      "മത്തായിMAT\n",
      "മർക്കൊസ്MRK\n",
      "ലൂക്കൊസ്LUK\n",
      "യോഹന്നാൻJHN\n",
      "അപ്പൊ. പ്രവൃത്തികൾACT\n",
      "റോമർROM\n",
      "1. കൊരിന്ത്യർ1CO\n",
      "2. കൊരിന്ത്യർ2CO\n",
      "ഗലാത്യർGAL\n",
      "എഫെസ്യർEPH\n",
      "ഫിലിപ്പിയർPHP\n",
      "കൊലൊസ്സ്യർCOL\n",
      "1. തെസ്സലൊനീക്യർ1TH\n",
      "2. തെസ്സലൊനീക്യർ2TH\n",
      "1. തിമൊഥെയൊസ്1TI\n",
      "2. തിമൊഥെയൊസ്2TI\n",
      "തീത്തൊസ്TIT\n",
      "ഫിലേമോൻPHM\n",
      "എബ്രായർHEB\n",
      "യാക്കോബ്JAS\n",
      "1. പത്രൊസ്1PE\n",
      "2. പത്രൊസ്2PE\n",
      "1. യോഹന്നാൻ1JN\n",
      "2. യോഹന്നാൻ2JN\n",
      "3. യോഹന്നാൻ3JN\n",
      "യൂദാJUD\n",
      "വെളിപ്പാടുREV\n"
     ]
    }
   ],
   "source": [
    "# The logic applied here is first we click the dropdown and then focus on the New Testament Book. After that we iterate through each chapter in the book and fetch the text content within <span>\n",
    "# Note that the dropdown closes once we click a chapter therefore it has to be clicked again for iterating through the next chapters\n",
    "# Each chapter in the book will be converted to a list and the final result will be list of lists and the final size of list will be 260 as there are 260 chapters in New Testament  \n",
    "# As the books are being iterated they will be displayed below\n",
    "# 15 minutes is required to complete the execution if the internet speed is smmoth\n",
    "l1 = []\n",
    "l2=[]\n",
    "# Define the maximum wait time\n",
    "wait = WebDriverWait(driver, 30)\n",
    "fourth = wait.until(EC.element_to_be_clickable((By.XPATH, '//*[@id=\"chapter-dropdown-button\"]')))\n",
    "driver.execute_script(\"arguments[0].click()\", fourth)\n",
    "second = wait.until(EC.element_to_be_clickable((By.XPATH, f'//*[@id=\"മത്തായിMAT\"]')))\n",
    "driver.execute_script(\"arguments[0].click()\", second)\n",
    "for book, size in zip(books_of_new_testament, sizes):\n",
    "    print(book)\n",
    "    fourth = wait.until(EC.element_to_be_clickable((By.XPATH, '//*[@id=\"chapter-dropdown-button\"]')))\n",
    "    driver.execute_script(\"arguments[0].click()\", fourth)\n",
    "    second = wait.until(EC.element_to_be_clickable((By.XPATH, f'//*[@id=\"{book}\"]')))\n",
    "    driver.execute_script(\"arguments[0].click()\", second)\n",
    "    for i in range(1, size + 1):\n",
    "        if book!='ഫിലേമോൻPHM' and book!=' \"യൂദാJUD\"' and book!=\"3. യോഹന്നാൻ3JN\" and book!=\"2. യോഹന്നാൻ2JN\" :   #These books have only one chapter each\n",
    "            xpath=f'//*[@id=\"{book}\"]/span/a[{i}]'\n",
    "        else:\n",
    "            xpath= f'//*[@id=\"{book}\"]/span/a'\n",
    "        third = wait.until(EC.element_to_be_clickable((By.XPATH, xpath)))\n",
    "        driver.execute_script(\"arguments[0].click()\", third)\n",
    "        \n",
    "        wait.until(EC.presence_of_element_located((By.CLASS_NAME, 'main-wrapper')))\n",
    "        soup = BeautifulSoup(driver.page_source, 'html.parser')\n",
    "        parent = soup.find('div', class_='content-container').find('div', 'text-container audio-player-open').find('div', 'main-wrapper')\n",
    "        \n",
    "        second = wait.until(EC.element_to_be_clickable((By.XPATH, '//*[@id=\"chapter-dropdown-button\"]')))\n",
    "        driver.execute_script(\"arguments[0].click()\", second)\n",
    "        \n",
    "        verse_spans = soup.find_all('span', class_='align-left')\n",
    "        \n",
    "        l=[]\n",
    "        for span in verse_spans:\n",
    "            l.append(span.text)\n",
    "        for a in soup.find_all('video', src=True):\n",
    "            l2.append(a['src'])\n",
    "        l1.append(l)\n",
    "\n",
    "        time.sleep(2)  # Short sleep to ensure the dropdown closes before the next iteration\n",
    "    time.sleep(2)\n",
    "  \n",
    "    \n"
   ]
  },
  {
   "cell_type": "code",
   "execution_count": 17,
   "metadata": {},
   "outputs": [
    {
     "name": "stdout",
     "output_type": "stream",
     "text": [
      " 1 നിങ്ങളിൽ ശണ്ഠയും കലഹവും എവിടെ നിന്ന്? നിങ്ങളുടെ അവയവങ്ങളിൽ പോരാടുന്ന ഭോഗേച്ഛകളിൽ നിന്നല്ലയോ?\n",
      " 2 നിങ്ങൾ മോഹിച്ചിട്ടും പ്രാപിക്കുന്നില്ല; നിങ്ങൾ കൊല്ലുകയും അസൂയപ്പെടുകയും ചെയ്തിട്ടും ഒന്നും സാധിക്കുന്നില്ല; നിങ്ങൾ കലഹിക്കയും ശണ്ഠയിടുകയും ചെയ്തിട്ടും യാചിക്കായ്കകൊണ്ടു കിട്ടുന്നില്ല.\n",
      " 3 നിങ്ങൾ യാചിക്കുന്നു എങ്കിലും നിങ്ങളുടെ ഭോഗങ്ങളിൽ ചെലവിടേണ്ടതിനു വല്ലാതെ യാചിക്കകൊണ്ട് ഒന്നും ലഭിക്കുന്നില്ല.\n",
      " 4 വ്യഭിചാരിണികളായുള്ളോരേ, ലോകസ്നേഹം ദൈവത്തോടു ശത്രുത്വം ആകുന്നു എന്നു നിങ്ങൾ അറിയുന്നില്ലയോ? ആകയാൽ ലോകത്തിന്റെ സ്നേഹിതൻ ആകുവാൻ ഇച്ഛിക്കുന്നവനെല്ലാം ദൈവത്തിന്റെ ശത്രുവായിത്തീരുന്നു.\n",
      " 5 അല്ലെങ്കിൽ തിരുവെഴുത്തു വെറുതെ സംസാരിക്കുന്നു എന്നു തോന്നുന്നുവോ? അവൻ നമ്മിൽ വസിക്കുമാറാക്കിയ ആത്മാവ് അസൂയയ്ക്കായി കാംക്ഷിക്കുന്നുവോ?\n",
      " 6 എന്നാൽ അവൻ അധികം കൃപ നല്കുന്നു; അതുകൊണ്ടു “ദൈവം നിഗളികളോട് എതിർത്തുനില്ക്കയും താഴ്മയുള്ളവർക്കു കൃപ നല്കുകയും ചെയ്യുന്നു” എന്നു പറഞ്ഞിരിക്കുന്നു.\n",
      " 7 ആകയാൽ നിങ്ങൾ ദൈവത്തിനു കീഴടങ്ങുവിൻ; പിശാചിനോട് എതിർത്തുനില്പിൻ; എന്നാൽ അവൻ നിങ്ങളെ വിട്ട് ഓടിപ്പോകും.\n",
      " 8 ദൈവത്തോട് അടുത്തു ചെല്ലുവിൻ; എന്നാൽ അവൻ നിങ്ങളോട് അടുത്തുവരും. പാപികളേ, കൈകളെ വെടിപ്പാക്കുവിൻ; ഇരുമനസ്സുള്ളവരേ, ഹൃദയങ്ങളെ ശുദ്ധീകരിപ്പിൻ;\n",
      " 9 സങ്കടപ്പെട്ടു ദുഃഖിച്ചു കരവിൻ; നിങ്ങളുടെ ചിരി ദുഃഖമായും സന്തോഷം വിഷാദമായും തീരട്ടെ.\n",
      " 10 കർത്താവിന്റെ സന്നിധിയിൽ താഴുവിൻ; എന്നാൽ അവൻ നിങ്ങളെ ഉയർത്തും.\n",
      " 11 സഹോദരന്മാരേ, അന്യോന്യം ദുഷിക്കരുത്; തന്റെ സഹോദരനെ ദുഷിക്കയും വിധിക്കയും ചെയ്യുന്നവൻ ന്യായപ്രമാണത്തെ ദുഷിക്കയും ന്യായപ്രമാണത്തെ വിധിക്കയും ചെയ്യുന്നു. ന്യായപ്രമാണത്തെ വിധിക്കുന്നു എങ്കിൽ നീ ന്യായപ്രമാണത്തെ അനുഷ്ഠിക്കുന്നവനല്ല, വിധിക്കുന്നവനത്രേ.\n",
      " 12 ന്യായപ്രമാണകർത്താവും ന്യായാധിപതിയും ഒരുവനേയുള്ളൂ: രക്ഷിപ്പാനും നശിപ്പിപ്പാനും ശക്തനായവൻ തന്നെ; കൂട്ടുകാരനെ വിധിപ്പാൻ നീ ആർ?\n",
      " 13 ഇന്നോ നാളെയോ ഞങ്ങൾ ഇന്ന പട്ടണത്തിൽ പോയി അവിടെ ഒരാണ്ടു കഴിച്ചു വ്യാപാരം ചെയ്തു ലാഭം ഉണ്ടാക്കും എന്നു പറയുന്നവരേ, കേൾപ്പിൻ:\n",
      " 14 നാളത്തേതു നിങ്ങൾ അറിയുന്നില്ലല്ലോ; നിങ്ങളുടെ ജീവൻ എങ്ങനെയുള്ളത്? അല്പനേരത്തേക്കു കാണുന്നതും പിന്നെ മറഞ്ഞുപോകുന്നതുമായ ആവിയല്ലോ.\n",
      " 15 കർത്താവിന് ഇഷ്ടമുണ്ടെങ്കിൽ ഞങ്ങൾ ജീവിച്ചിരുന്ന് ഇന്നിന്നതു ചെയ്യും എന്നല്ലയോ പറയേണ്ടത്.\n",
      " 16 നിങ്ങളോ വമ്പു പറഞ്ഞു പ്രശംസിക്കുന്നു; ഈവക പ്രശംസ എല്ലാം ദോഷം ആകുന്നു.\n",
      " 17 നന്മ ചെയ്‌വാനറിഞ്ഞിട്ടും ചെയ്യാത്തവന് അതു പാപംതന്നെ.\n"
     ]
    }
   ],
   "source": [
    "for i in l1[220]:\n",
    "    print(i)\n",
    " "
   ]
  },
  {
   "cell_type": "code",
   "execution_count": 11,
   "metadata": {},
   "outputs": [],
   "source": [
    "with open('output.txt', 'w', encoding='utf-8') as file:  #We write the contents of our vector of vectors into a text file\n",
    "    for verses in l1:\n",
    "        file.write(' '.join(verses) + '\\n')"
   ]
  },
  {
   "cell_type": "code",
   "execution_count": 3,
   "metadata": {},
   "outputs": [],
   "source": [
    "import pandas as pd\n",
    "l3=[]\n",
    "for i in books_of_new_testament:\n",
    "    l3.append(i[len(i)-3:len(i)])\n"
   ]
  },
  {
   "cell_type": "code",
   "execution_count": 211,
   "metadata": {},
   "outputs": [
    {
     "name": "stdout",
     "output_type": "stream",
     "text": [
      "https://d1gd73roq7kqw6.cloudfront.net/audio/MALBCM/MALBCMN2DA/B01___26_Matthew_____MALBCMN2DA.mp3?x-amz-transaction=2983476&Expires=1715832485&Signature=XEFaEb-ZTseKVyIbnpxKf1zhHJhek7m67YZEENW-VoMvNHtwGWBem6mVsNuqEF4fyo6ePXOzhxPuXqEGEzBXdUFJBoXJ9aZKTEjcTx10S8niHFdfbjnXGhKZ3drPuoTcDxi7QhHpmxLpfZzU7AX~SWhDDhMVnXsv-6cNvmoNElWD-toExeH2tx31hLkDuzfesvas6VY1I-cRMj7DbuwTj7NOuvyLG85OxHMtBJvi7AWqBtFpv0pM8F0aQ3nFt9d3yiLFZZoqIuUYcgxysC4LsFfsp0~ixd7qkpjKkxzNKao59k67EX6o-LRZot-DJNun6Hl0YbHadmk2X27Qm7SKPw__&Key-Pair-Id=APKAI4ULLVMANLYYPTLQ\n"
     ]
    }
   ],
   "source": [
    "print(l2[25])"
   ]
  },
  {
   "cell_type": "code",
   "execution_count": 2,
   "metadata": {},
   "outputs": [
    {
     "ename": "NameError",
     "evalue": "name 'l3' is not defined",
     "output_type": "error",
     "traceback": [
      "\u001b[1;31m---------------------------------------------------------------------------\u001b[0m",
      "\u001b[1;31mNameError\u001b[0m                                 Traceback (most recent call last)",
      "Cell \u001b[1;32mIn[2], line 3\u001b[0m\n\u001b[0;32m      1\u001b[0m data\u001b[38;5;241m=\u001b[39m[]\n\u001b[0;32m      2\u001b[0m k\u001b[38;5;241m=\u001b[39m\u001b[38;5;241m0\u001b[39m\n\u001b[1;32m----> 3\u001b[0m \u001b[38;5;28;01mfor\u001b[39;00m book,size \u001b[38;5;129;01min\u001b[39;00m \u001b[38;5;28mzip\u001b[39m(\u001b[43ml3\u001b[49m, sizes):\n\u001b[0;32m      4\u001b[0m     \u001b[38;5;28;01mfor\u001b[39;00m i \u001b[38;5;129;01min\u001b[39;00m \u001b[38;5;28mrange\u001b[39m(\u001b[38;5;241m1\u001b[39m,size\u001b[38;5;241m+\u001b[39m\u001b[38;5;241m1\u001b[39m):\n\u001b[0;32m      5\u001b[0m         data\u001b[38;5;241m.\u001b[39mappend([book\u001b[38;5;241m+\u001b[39m\u001b[38;5;124m\"\u001b[39m\u001b[38;5;124m \u001b[39m\u001b[38;5;124m\"\u001b[39m\u001b[38;5;241m+\u001b[39m\u001b[38;5;28mstr\u001b[39m(i),l1[k],l2[k]])\n",
      "\u001b[1;31mNameError\u001b[0m: name 'l3' is not defined"
     ]
    }
   ],
   "source": [
    "#We store our data in a pandas dataframe\n",
    "data=[]\n",
    "k=0\n",
    "for book,size in zip(l3, sizes):\n",
    "    for i in range(1,size+1):\n",
    "        data.append([book+\" \"+str(i),l1[k],l2[k]])\n",
    "        k=k+1\n",
    "dfrm=pd.DataFrame(data=data,columns=['Book',\"Text\",\"Audio\"])"
   ]
  },
  {
   "cell_type": "code",
   "execution_count": 14,
   "metadata": {},
   "outputs": [
    {
     "name": "stdout",
     "output_type": "stream",
     "text": [
      "       Book                                               Text  \\\n",
      "0     MAT 1  [ 1 അബ്രാഹാമിന്റെ പുത്രനായ ദാവീദിന്റെ പുത്രനായ...   \n",
      "1     MAT 2  [ 1 ഹെരോദാരാജാവിന്റെ കാലത്തു യേശു യെഹൂദ്യയിലെ ...   \n",
      "2     MAT 3  [ 1 ആ കാലത്തു യോഹന്നാൻസ്നാപകൻ വന്നു, യെഹൂദ്യമര...   \n",
      "3     MAT 4  [ 1 അനന്തരം പിശാചിനാൽ പരീക്ഷിക്കപ്പെടുവാൻ യേശു...   \n",
      "4     MAT 5  [ 1 അവൻ പുരുഷാരത്തെ കണ്ടാറെ മലമേൽ കയറി. അവൻ ഇര...   \n",
      "..      ...                                                ...   \n",
      "255  REV 18  [ 1 അനന്തരം ഞാൻ വലിയ അധികാരമുള്ള മറ്റൊരു ദൂതൻ ...   \n",
      "256  REV 19  [ 1 അനന്തരം ഞാൻ സ്വർഗത്തിൽ വലിയോരു പുരുഷാരത്തി...   \n",
      "257  REV 20  [ 1 അനന്തരം ഒരു ദൂതൻ അഗാധത്തിന്റെ താക്കോലും ഒര...   \n",
      "258  REV 21  [ 1 ഞാൻ പുതിയ ആകാശവും പുതിയ ഭൂമിയും കണ്ടു; ഒന്...   \n",
      "259  REV 22  [ 1 വീഥിയുടെ നടുവിൽ ദൈവത്തിന്റെയും കുഞ്ഞാടിന്റ...   \n",
      "\n",
      "                                                 Audio  \n",
      "0    https://d1gd73roq7kqw6.cloudfront.net/audio/MA...  \n",
      "1    https://d1gd73roq7kqw6.cloudfront.net/audio/MA...  \n",
      "2    https://d1gd73roq7kqw6.cloudfront.net/audio/MA...  \n",
      "3    https://d1gd73roq7kqw6.cloudfront.net/audio/MA...  \n",
      "4    https://d1gd73roq7kqw6.cloudfront.net/audio/MA...  \n",
      "..                                                 ...  \n",
      "255  https://d1gd73roq7kqw6.cloudfront.net/audio/MA...  \n",
      "256  https://d1gd73roq7kqw6.cloudfront.net/audio/MA...  \n",
      "257  https://d1gd73roq7kqw6.cloudfront.net/audio/MA...  \n",
      "258  https://d1gd73roq7kqw6.cloudfront.net/audio/MA...  \n",
      "259  https://d1gd73roq7kqw6.cloudfront.net/audio/MA...  \n",
      "\n",
      "[260 rows x 3 columns]\n"
     ]
    }
   ],
   "source": [
    "print(dfrm)"
   ]
  },
  {
   "cell_type": "code",
   "execution_count": 16,
   "metadata": {},
   "outputs": [],
   "source": [
    "dfrm.to_csv('bible1.csv')"
   ]
  },
  {
   "cell_type": "code",
   "execution_count": 4,
   "metadata": {},
   "outputs": [
    {
     "ename": "KeyboardInterrupt",
     "evalue": "",
     "output_type": "error",
     "traceback": [
      "\u001b[1;31m---------------------------------------------------------------------------\u001b[0m",
      "\u001b[1;31mKeyboardInterrupt\u001b[0m                         Traceback (most recent call last)",
      "Cell \u001b[1;32mIn[4], line 34\u001b[0m\n\u001b[0;32m     32\u001b[0m tts \u001b[38;5;241m=\u001b[39m gTTS(text\u001b[38;5;241m=\u001b[39ml1[\u001b[38;5;241m0\u001b[39m][k], lang\u001b[38;5;241m=\u001b[39m\u001b[38;5;124m'\u001b[39m\u001b[38;5;124mml\u001b[39m\u001b[38;5;124m'\u001b[39m, slow\u001b[38;5;241m=\u001b[39m\u001b[38;5;28;01mFalse\u001b[39;00m)\n\u001b[0;32m     33\u001b[0m audio_file \u001b[38;5;241m=\u001b[39m os\u001b[38;5;241m.\u001b[39mpath\u001b[38;5;241m.\u001b[39mjoin(\u001b[38;5;124m\"\u001b[39m\u001b[38;5;124mmalayalam_bible\u001b[39m\u001b[38;5;124m\"\u001b[39m, \u001b[38;5;124mf\u001b[39m\u001b[38;5;124m\"\u001b[39m\u001b[38;5;132;01m{\u001b[39;00mbook\u001b[38;5;132;01m}\u001b[39;00m\u001b[38;5;124m \u001b[39m\u001b[38;5;132;01m{\u001b[39;00mi\u001b[38;5;132;01m}\u001b[39;00m\u001b[38;5;124m.mp3\u001b[39m\u001b[38;5;124m\"\u001b[39m)\n\u001b[1;32m---> 34\u001b[0m \u001b[43mtts\u001b[49m\u001b[38;5;241;43m.\u001b[39;49m\u001b[43msave\u001b[49m\u001b[43m(\u001b[49m\u001b[43maudio_file\u001b[49m\u001b[43m)\u001b[49m\n\u001b[0;32m     35\u001b[0m k \u001b[38;5;241m+\u001b[39m\u001b[38;5;241m=\u001b[39m \u001b[38;5;241m1\u001b[39m\n\u001b[0;32m     36\u001b[0m time\u001b[38;5;241m.\u001b[39msleep(\u001b[38;5;241m2\u001b[39m)\n",
      "File \u001b[1;32mc:\\Users\\loveb\\AppData\\Local\\Programs\\Python\\Python311\\Lib\\site-packages\\gtts\\tts.py:335\u001b[0m, in \u001b[0;36mgTTS.save\u001b[1;34m(self, savefile)\u001b[0m\n\u001b[0;32m    325\u001b[0m \u001b[38;5;250m\u001b[39m\u001b[38;5;124;03m\"\"\"Do the TTS API request and write result to file.\u001b[39;00m\n\u001b[0;32m    326\u001b[0m \n\u001b[0;32m    327\u001b[0m \u001b[38;5;124;03mArgs:\u001b[39;00m\n\u001b[1;32m   (...)\u001b[0m\n\u001b[0;32m    332\u001b[0m \n\u001b[0;32m    333\u001b[0m \u001b[38;5;124;03m\"\"\"\u001b[39;00m\n\u001b[0;32m    334\u001b[0m \u001b[38;5;28;01mwith\u001b[39;00m \u001b[38;5;28mopen\u001b[39m(\u001b[38;5;28mstr\u001b[39m(savefile), \u001b[38;5;124m\"\u001b[39m\u001b[38;5;124mwb\u001b[39m\u001b[38;5;124m\"\u001b[39m) \u001b[38;5;28;01mas\u001b[39;00m f:\n\u001b[1;32m--> 335\u001b[0m     \u001b[38;5;28;43mself\u001b[39;49m\u001b[38;5;241;43m.\u001b[39;49m\u001b[43mwrite_to_fp\u001b[49m\u001b[43m(\u001b[49m\u001b[43mf\u001b[49m\u001b[43m)\u001b[49m\n\u001b[0;32m    336\u001b[0m     f\u001b[38;5;241m.\u001b[39mflush()\n\u001b[0;32m    337\u001b[0m     log\u001b[38;5;241m.\u001b[39mdebug(\u001b[38;5;124m\"\u001b[39m\u001b[38;5;124mSaved to \u001b[39m\u001b[38;5;132;01m%s\u001b[39;00m\u001b[38;5;124m\"\u001b[39m, savefile)\n",
      "File \u001b[1;32mc:\\Users\\loveb\\AppData\\Local\\Programs\\Python\\Python311\\Lib\\site-packages\\gtts\\tts.py:316\u001b[0m, in \u001b[0;36mgTTS.write_to_fp\u001b[1;34m(self, fp)\u001b[0m\n\u001b[0;32m    304\u001b[0m \u001b[38;5;250m\u001b[39m\u001b[38;5;124;03m\"\"\"Do the TTS API request(s) and write bytes to a file-like object.\u001b[39;00m\n\u001b[0;32m    305\u001b[0m \n\u001b[0;32m    306\u001b[0m \u001b[38;5;124;03mArgs:\u001b[39;00m\n\u001b[1;32m   (...)\u001b[0m\n\u001b[0;32m    312\u001b[0m \n\u001b[0;32m    313\u001b[0m \u001b[38;5;124;03m\"\"\"\u001b[39;00m\n\u001b[0;32m    315\u001b[0m \u001b[38;5;28;01mtry\u001b[39;00m:\n\u001b[1;32m--> 316\u001b[0m \u001b[43m    \u001b[49m\u001b[38;5;28;43;01mfor\u001b[39;49;00m\u001b[43m \u001b[49m\u001b[43midx\u001b[49m\u001b[43m,\u001b[49m\u001b[43m \u001b[49m\u001b[43mdecoded\u001b[49m\u001b[43m \u001b[49m\u001b[38;5;129;43;01min\u001b[39;49;00m\u001b[43m \u001b[49m\u001b[38;5;28;43menumerate\u001b[39;49m\u001b[43m(\u001b[49m\u001b[38;5;28;43mself\u001b[39;49m\u001b[38;5;241;43m.\u001b[39;49m\u001b[43mstream\u001b[49m\u001b[43m(\u001b[49m\u001b[43m)\u001b[49m\u001b[43m)\u001b[49m\u001b[43m:\u001b[49m\n\u001b[0;32m    317\u001b[0m \u001b[43m        \u001b[49m\u001b[43mfp\u001b[49m\u001b[38;5;241;43m.\u001b[39;49m\u001b[43mwrite\u001b[49m\u001b[43m(\u001b[49m\u001b[43mdecoded\u001b[49m\u001b[43m)\u001b[49m\n\u001b[0;32m    318\u001b[0m \u001b[43m        \u001b[49m\u001b[43mlog\u001b[49m\u001b[38;5;241;43m.\u001b[39;49m\u001b[43mdebug\u001b[49m\u001b[43m(\u001b[49m\u001b[38;5;124;43m\"\u001b[39;49m\u001b[38;5;124;43mpart-\u001b[39;49m\u001b[38;5;132;43;01m%i\u001b[39;49;00m\u001b[38;5;124;43m written to \u001b[39;49m\u001b[38;5;132;43;01m%s\u001b[39;49;00m\u001b[38;5;124;43m\"\u001b[39;49m\u001b[43m,\u001b[49m\u001b[43m \u001b[49m\u001b[43midx\u001b[49m\u001b[43m,\u001b[49m\u001b[43m \u001b[49m\u001b[43mfp\u001b[49m\u001b[43m)\u001b[49m\n",
      "File \u001b[1;32mc:\\Users\\loveb\\AppData\\Local\\Programs\\Python\\Python311\\Lib\\site-packages\\gtts\\tts.py:268\u001b[0m, in \u001b[0;36mgTTS.stream\u001b[1;34m(self)\u001b[0m\n\u001b[0;32m    265\u001b[0m \u001b[38;5;28;01mtry\u001b[39;00m:\n\u001b[0;32m    266\u001b[0m     \u001b[38;5;28;01mwith\u001b[39;00m requests\u001b[38;5;241m.\u001b[39mSession() \u001b[38;5;28;01mas\u001b[39;00m s:\n\u001b[0;32m    267\u001b[0m         \u001b[38;5;66;03m# Send request\u001b[39;00m\n\u001b[1;32m--> 268\u001b[0m         r \u001b[38;5;241m=\u001b[39m \u001b[43ms\u001b[49m\u001b[38;5;241;43m.\u001b[39;49m\u001b[43msend\u001b[49m\u001b[43m(\u001b[49m\n\u001b[0;32m    269\u001b[0m \u001b[43m            \u001b[49m\u001b[43mrequest\u001b[49m\u001b[38;5;241;43m=\u001b[39;49m\u001b[43mpr\u001b[49m\u001b[43m,\u001b[49m\n\u001b[0;32m    270\u001b[0m \u001b[43m            \u001b[49m\u001b[43mverify\u001b[49m\u001b[38;5;241;43m=\u001b[39;49m\u001b[38;5;28;43;01mFalse\u001b[39;49;00m\u001b[43m,\u001b[49m\n\u001b[0;32m    271\u001b[0m \u001b[43m            \u001b[49m\u001b[43mproxies\u001b[49m\u001b[38;5;241;43m=\u001b[39;49m\u001b[43murllib\u001b[49m\u001b[38;5;241;43m.\u001b[39;49m\u001b[43mrequest\u001b[49m\u001b[38;5;241;43m.\u001b[39;49m\u001b[43mgetproxies\u001b[49m\u001b[43m(\u001b[49m\u001b[43m)\u001b[49m\u001b[43m,\u001b[49m\n\u001b[0;32m    272\u001b[0m \u001b[43m            \u001b[49m\u001b[43mtimeout\u001b[49m\u001b[38;5;241;43m=\u001b[39;49m\u001b[38;5;28;43mself\u001b[39;49m\u001b[38;5;241;43m.\u001b[39;49m\u001b[43mtimeout\u001b[49m\u001b[43m,\u001b[49m\n\u001b[0;32m    273\u001b[0m \u001b[43m        \u001b[49m\u001b[43m)\u001b[49m\n\u001b[0;32m    275\u001b[0m     log\u001b[38;5;241m.\u001b[39mdebug(\u001b[38;5;124m\"\u001b[39m\u001b[38;5;124mheaders-\u001b[39m\u001b[38;5;132;01m%i\u001b[39;00m\u001b[38;5;124m: \u001b[39m\u001b[38;5;132;01m%s\u001b[39;00m\u001b[38;5;124m\"\u001b[39m, idx, r\u001b[38;5;241m.\u001b[39mrequest\u001b[38;5;241m.\u001b[39mheaders)\n\u001b[0;32m    276\u001b[0m     log\u001b[38;5;241m.\u001b[39mdebug(\u001b[38;5;124m\"\u001b[39m\u001b[38;5;124murl-\u001b[39m\u001b[38;5;132;01m%i\u001b[39;00m\u001b[38;5;124m: \u001b[39m\u001b[38;5;132;01m%s\u001b[39;00m\u001b[38;5;124m\"\u001b[39m, idx, r\u001b[38;5;241m.\u001b[39mrequest\u001b[38;5;241m.\u001b[39murl)\n",
      "File \u001b[1;32mc:\\Users\\loveb\\AppData\\Local\\Programs\\Python\\Python311\\Lib\\site-packages\\requests\\sessions.py:703\u001b[0m, in \u001b[0;36mSession.send\u001b[1;34m(self, request, **kwargs)\u001b[0m\n\u001b[0;32m    700\u001b[0m start \u001b[38;5;241m=\u001b[39m preferred_clock()\n\u001b[0;32m    702\u001b[0m \u001b[38;5;66;03m# Send the request\u001b[39;00m\n\u001b[1;32m--> 703\u001b[0m r \u001b[38;5;241m=\u001b[39m \u001b[43madapter\u001b[49m\u001b[38;5;241;43m.\u001b[39;49m\u001b[43msend\u001b[49m\u001b[43m(\u001b[49m\u001b[43mrequest\u001b[49m\u001b[43m,\u001b[49m\u001b[43m \u001b[49m\u001b[38;5;241;43m*\u001b[39;49m\u001b[38;5;241;43m*\u001b[39;49m\u001b[43mkwargs\u001b[49m\u001b[43m)\u001b[49m\n\u001b[0;32m    705\u001b[0m \u001b[38;5;66;03m# Total elapsed time of the request (approximately)\u001b[39;00m\n\u001b[0;32m    706\u001b[0m elapsed \u001b[38;5;241m=\u001b[39m preferred_clock() \u001b[38;5;241m-\u001b[39m start\n",
      "File \u001b[1;32mc:\\Users\\loveb\\AppData\\Local\\Programs\\Python\\Python311\\Lib\\site-packages\\requests\\adapters.py:486\u001b[0m, in \u001b[0;36mHTTPAdapter.send\u001b[1;34m(self, request, stream, timeout, verify, cert, proxies)\u001b[0m\n\u001b[0;32m    483\u001b[0m     timeout \u001b[38;5;241m=\u001b[39m TimeoutSauce(connect\u001b[38;5;241m=\u001b[39mtimeout, read\u001b[38;5;241m=\u001b[39mtimeout)\n\u001b[0;32m    485\u001b[0m \u001b[38;5;28;01mtry\u001b[39;00m:\n\u001b[1;32m--> 486\u001b[0m     resp \u001b[38;5;241m=\u001b[39m \u001b[43mconn\u001b[49m\u001b[38;5;241;43m.\u001b[39;49m\u001b[43murlopen\u001b[49m\u001b[43m(\u001b[49m\n\u001b[0;32m    487\u001b[0m \u001b[43m        \u001b[49m\u001b[43mmethod\u001b[49m\u001b[38;5;241;43m=\u001b[39;49m\u001b[43mrequest\u001b[49m\u001b[38;5;241;43m.\u001b[39;49m\u001b[43mmethod\u001b[49m\u001b[43m,\u001b[49m\n\u001b[0;32m    488\u001b[0m \u001b[43m        \u001b[49m\u001b[43murl\u001b[49m\u001b[38;5;241;43m=\u001b[39;49m\u001b[43murl\u001b[49m\u001b[43m,\u001b[49m\n\u001b[0;32m    489\u001b[0m \u001b[43m        \u001b[49m\u001b[43mbody\u001b[49m\u001b[38;5;241;43m=\u001b[39;49m\u001b[43mrequest\u001b[49m\u001b[38;5;241;43m.\u001b[39;49m\u001b[43mbody\u001b[49m\u001b[43m,\u001b[49m\n\u001b[0;32m    490\u001b[0m \u001b[43m        \u001b[49m\u001b[43mheaders\u001b[49m\u001b[38;5;241;43m=\u001b[39;49m\u001b[43mrequest\u001b[49m\u001b[38;5;241;43m.\u001b[39;49m\u001b[43mheaders\u001b[49m\u001b[43m,\u001b[49m\n\u001b[0;32m    491\u001b[0m \u001b[43m        \u001b[49m\u001b[43mredirect\u001b[49m\u001b[38;5;241;43m=\u001b[39;49m\u001b[38;5;28;43;01mFalse\u001b[39;49;00m\u001b[43m,\u001b[49m\n\u001b[0;32m    492\u001b[0m \u001b[43m        \u001b[49m\u001b[43massert_same_host\u001b[49m\u001b[38;5;241;43m=\u001b[39;49m\u001b[38;5;28;43;01mFalse\u001b[39;49;00m\u001b[43m,\u001b[49m\n\u001b[0;32m    493\u001b[0m \u001b[43m        \u001b[49m\u001b[43mpreload_content\u001b[49m\u001b[38;5;241;43m=\u001b[39;49m\u001b[38;5;28;43;01mFalse\u001b[39;49;00m\u001b[43m,\u001b[49m\n\u001b[0;32m    494\u001b[0m \u001b[43m        \u001b[49m\u001b[43mdecode_content\u001b[49m\u001b[38;5;241;43m=\u001b[39;49m\u001b[38;5;28;43;01mFalse\u001b[39;49;00m\u001b[43m,\u001b[49m\n\u001b[0;32m    495\u001b[0m \u001b[43m        \u001b[49m\u001b[43mretries\u001b[49m\u001b[38;5;241;43m=\u001b[39;49m\u001b[38;5;28;43mself\u001b[39;49m\u001b[38;5;241;43m.\u001b[39;49m\u001b[43mmax_retries\u001b[49m\u001b[43m,\u001b[49m\n\u001b[0;32m    496\u001b[0m \u001b[43m        \u001b[49m\u001b[43mtimeout\u001b[49m\u001b[38;5;241;43m=\u001b[39;49m\u001b[43mtimeout\u001b[49m\u001b[43m,\u001b[49m\n\u001b[0;32m    497\u001b[0m \u001b[43m        \u001b[49m\u001b[43mchunked\u001b[49m\u001b[38;5;241;43m=\u001b[39;49m\u001b[43mchunked\u001b[49m\u001b[43m,\u001b[49m\n\u001b[0;32m    498\u001b[0m \u001b[43m    \u001b[49m\u001b[43m)\u001b[49m\n\u001b[0;32m    500\u001b[0m \u001b[38;5;28;01mexcept\u001b[39;00m (ProtocolError, \u001b[38;5;167;01mOSError\u001b[39;00m) \u001b[38;5;28;01mas\u001b[39;00m err:\n\u001b[0;32m    501\u001b[0m     \u001b[38;5;28;01mraise\u001b[39;00m \u001b[38;5;167;01mConnectionError\u001b[39;00m(err, request\u001b[38;5;241m=\u001b[39mrequest)\n",
      "File \u001b[1;32m~\\AppData\\Roaming\\Python\\Python311\\site-packages\\urllib3\\connectionpool.py:793\u001b[0m, in \u001b[0;36mHTTPConnectionPool.urlopen\u001b[1;34m(self, method, url, body, headers, retries, redirect, assert_same_host, timeout, pool_timeout, release_conn, chunked, body_pos, preload_content, decode_content, **response_kw)\u001b[0m\n\u001b[0;32m    790\u001b[0m response_conn \u001b[38;5;241m=\u001b[39m conn \u001b[38;5;28;01mif\u001b[39;00m \u001b[38;5;129;01mnot\u001b[39;00m release_conn \u001b[38;5;28;01melse\u001b[39;00m \u001b[38;5;28;01mNone\u001b[39;00m\n\u001b[0;32m    792\u001b[0m \u001b[38;5;66;03m# Make the request on the HTTPConnection object\u001b[39;00m\n\u001b[1;32m--> 793\u001b[0m response \u001b[38;5;241m=\u001b[39m \u001b[38;5;28;43mself\u001b[39;49m\u001b[38;5;241;43m.\u001b[39;49m\u001b[43m_make_request\u001b[49m\u001b[43m(\u001b[49m\n\u001b[0;32m    794\u001b[0m \u001b[43m    \u001b[49m\u001b[43mconn\u001b[49m\u001b[43m,\u001b[49m\n\u001b[0;32m    795\u001b[0m \u001b[43m    \u001b[49m\u001b[43mmethod\u001b[49m\u001b[43m,\u001b[49m\n\u001b[0;32m    796\u001b[0m \u001b[43m    \u001b[49m\u001b[43murl\u001b[49m\u001b[43m,\u001b[49m\n\u001b[0;32m    797\u001b[0m \u001b[43m    \u001b[49m\u001b[43mtimeout\u001b[49m\u001b[38;5;241;43m=\u001b[39;49m\u001b[43mtimeout_obj\u001b[49m\u001b[43m,\u001b[49m\n\u001b[0;32m    798\u001b[0m \u001b[43m    \u001b[49m\u001b[43mbody\u001b[49m\u001b[38;5;241;43m=\u001b[39;49m\u001b[43mbody\u001b[49m\u001b[43m,\u001b[49m\n\u001b[0;32m    799\u001b[0m \u001b[43m    \u001b[49m\u001b[43mheaders\u001b[49m\u001b[38;5;241;43m=\u001b[39;49m\u001b[43mheaders\u001b[49m\u001b[43m,\u001b[49m\n\u001b[0;32m    800\u001b[0m \u001b[43m    \u001b[49m\u001b[43mchunked\u001b[49m\u001b[38;5;241;43m=\u001b[39;49m\u001b[43mchunked\u001b[49m\u001b[43m,\u001b[49m\n\u001b[0;32m    801\u001b[0m \u001b[43m    \u001b[49m\u001b[43mretries\u001b[49m\u001b[38;5;241;43m=\u001b[39;49m\u001b[43mretries\u001b[49m\u001b[43m,\u001b[49m\n\u001b[0;32m    802\u001b[0m \u001b[43m    \u001b[49m\u001b[43mresponse_conn\u001b[49m\u001b[38;5;241;43m=\u001b[39;49m\u001b[43mresponse_conn\u001b[49m\u001b[43m,\u001b[49m\n\u001b[0;32m    803\u001b[0m \u001b[43m    \u001b[49m\u001b[43mpreload_content\u001b[49m\u001b[38;5;241;43m=\u001b[39;49m\u001b[43mpreload_content\u001b[49m\u001b[43m,\u001b[49m\n\u001b[0;32m    804\u001b[0m \u001b[43m    \u001b[49m\u001b[43mdecode_content\u001b[49m\u001b[38;5;241;43m=\u001b[39;49m\u001b[43mdecode_content\u001b[49m\u001b[43m,\u001b[49m\n\u001b[0;32m    805\u001b[0m \u001b[43m    \u001b[49m\u001b[38;5;241;43m*\u001b[39;49m\u001b[38;5;241;43m*\u001b[39;49m\u001b[43mresponse_kw\u001b[49m\u001b[43m,\u001b[49m\n\u001b[0;32m    806\u001b[0m \u001b[43m\u001b[49m\u001b[43m)\u001b[49m\n\u001b[0;32m    808\u001b[0m \u001b[38;5;66;03m# Everything went great!\u001b[39;00m\n\u001b[0;32m    809\u001b[0m clean_exit \u001b[38;5;241m=\u001b[39m \u001b[38;5;28;01mTrue\u001b[39;00m\n",
      "File \u001b[1;32m~\\AppData\\Roaming\\Python\\Python311\\site-packages\\urllib3\\connectionpool.py:537\u001b[0m, in \u001b[0;36mHTTPConnectionPool._make_request\u001b[1;34m(self, conn, method, url, body, headers, retries, timeout, chunked, response_conn, preload_content, decode_content, enforce_content_length)\u001b[0m\n\u001b[0;32m    535\u001b[0m \u001b[38;5;66;03m# Receive the response from the server\u001b[39;00m\n\u001b[0;32m    536\u001b[0m \u001b[38;5;28;01mtry\u001b[39;00m:\n\u001b[1;32m--> 537\u001b[0m     response \u001b[38;5;241m=\u001b[39m \u001b[43mconn\u001b[49m\u001b[38;5;241;43m.\u001b[39;49m\u001b[43mgetresponse\u001b[49m\u001b[43m(\u001b[49m\u001b[43m)\u001b[49m\n\u001b[0;32m    538\u001b[0m \u001b[38;5;28;01mexcept\u001b[39;00m (BaseSSLError, \u001b[38;5;167;01mOSError\u001b[39;00m) \u001b[38;5;28;01mas\u001b[39;00m e:\n\u001b[0;32m    539\u001b[0m     \u001b[38;5;28mself\u001b[39m\u001b[38;5;241m.\u001b[39m_raise_timeout(err\u001b[38;5;241m=\u001b[39me, url\u001b[38;5;241m=\u001b[39murl, timeout_value\u001b[38;5;241m=\u001b[39mread_timeout)\n",
      "File \u001b[1;32m~\\AppData\\Roaming\\Python\\Python311\\site-packages\\urllib3\\connection.py:466\u001b[0m, in \u001b[0;36mHTTPConnection.getresponse\u001b[1;34m(self)\u001b[0m\n\u001b[0;32m    463\u001b[0m \u001b[38;5;28;01mfrom\u001b[39;00m \u001b[38;5;21;01m.\u001b[39;00m\u001b[38;5;21;01mresponse\u001b[39;00m \u001b[38;5;28;01mimport\u001b[39;00m HTTPResponse\n\u001b[0;32m    465\u001b[0m \u001b[38;5;66;03m# Get the response from http.client.HTTPConnection\u001b[39;00m\n\u001b[1;32m--> 466\u001b[0m httplib_response \u001b[38;5;241m=\u001b[39m \u001b[38;5;28;43msuper\u001b[39;49m\u001b[43m(\u001b[49m\u001b[43m)\u001b[49m\u001b[38;5;241;43m.\u001b[39;49m\u001b[43mgetresponse\u001b[49m\u001b[43m(\u001b[49m\u001b[43m)\u001b[49m\n\u001b[0;32m    468\u001b[0m \u001b[38;5;28;01mtry\u001b[39;00m:\n\u001b[0;32m    469\u001b[0m     assert_header_parsing(httplib_response\u001b[38;5;241m.\u001b[39mmsg)\n",
      "File \u001b[1;32mc:\\Users\\loveb\\AppData\\Local\\Programs\\Python\\Python311\\Lib\\http\\client.py:1386\u001b[0m, in \u001b[0;36mHTTPConnection.getresponse\u001b[1;34m(self)\u001b[0m\n\u001b[0;32m   1384\u001b[0m \u001b[38;5;28;01mtry\u001b[39;00m:\n\u001b[0;32m   1385\u001b[0m     \u001b[38;5;28;01mtry\u001b[39;00m:\n\u001b[1;32m-> 1386\u001b[0m         \u001b[43mresponse\u001b[49m\u001b[38;5;241;43m.\u001b[39;49m\u001b[43mbegin\u001b[49m\u001b[43m(\u001b[49m\u001b[43m)\u001b[49m\n\u001b[0;32m   1387\u001b[0m     \u001b[38;5;28;01mexcept\u001b[39;00m \u001b[38;5;167;01mConnectionError\u001b[39;00m:\n\u001b[0;32m   1388\u001b[0m         \u001b[38;5;28mself\u001b[39m\u001b[38;5;241m.\u001b[39mclose()\n",
      "File \u001b[1;32mc:\\Users\\loveb\\AppData\\Local\\Programs\\Python\\Python311\\Lib\\http\\client.py:325\u001b[0m, in \u001b[0;36mHTTPResponse.begin\u001b[1;34m(self)\u001b[0m\n\u001b[0;32m    323\u001b[0m \u001b[38;5;66;03m# read until we get a non-100 response\u001b[39;00m\n\u001b[0;32m    324\u001b[0m \u001b[38;5;28;01mwhile\u001b[39;00m \u001b[38;5;28;01mTrue\u001b[39;00m:\n\u001b[1;32m--> 325\u001b[0m     version, status, reason \u001b[38;5;241m=\u001b[39m \u001b[38;5;28;43mself\u001b[39;49m\u001b[38;5;241;43m.\u001b[39;49m\u001b[43m_read_status\u001b[49m\u001b[43m(\u001b[49m\u001b[43m)\u001b[49m\n\u001b[0;32m    326\u001b[0m     \u001b[38;5;28;01mif\u001b[39;00m status \u001b[38;5;241m!=\u001b[39m CONTINUE:\n\u001b[0;32m    327\u001b[0m         \u001b[38;5;28;01mbreak\u001b[39;00m\n",
      "File \u001b[1;32mc:\\Users\\loveb\\AppData\\Local\\Programs\\Python\\Python311\\Lib\\http\\client.py:286\u001b[0m, in \u001b[0;36mHTTPResponse._read_status\u001b[1;34m(self)\u001b[0m\n\u001b[0;32m    285\u001b[0m \u001b[38;5;28;01mdef\u001b[39;00m \u001b[38;5;21m_read_status\u001b[39m(\u001b[38;5;28mself\u001b[39m):\n\u001b[1;32m--> 286\u001b[0m     line \u001b[38;5;241m=\u001b[39m \u001b[38;5;28mstr\u001b[39m(\u001b[38;5;28mself\u001b[39m\u001b[38;5;241m.\u001b[39mfp\u001b[38;5;241m.\u001b[39mreadline(_MAXLINE \u001b[38;5;241m+\u001b[39m \u001b[38;5;241m1\u001b[39m), \u001b[38;5;124m\"\u001b[39m\u001b[38;5;124miso-8859-1\u001b[39m\u001b[38;5;124m\"\u001b[39m)\n\u001b[0;32m    287\u001b[0m     \u001b[38;5;28;01mif\u001b[39;00m \u001b[38;5;28mlen\u001b[39m(line) \u001b[38;5;241m>\u001b[39m _MAXLINE:\n\u001b[0;32m    288\u001b[0m         \u001b[38;5;28;01mraise\u001b[39;00m LineTooLong(\u001b[38;5;124m\"\u001b[39m\u001b[38;5;124mstatus line\u001b[39m\u001b[38;5;124m\"\u001b[39m)\n",
      "File \u001b[1;32mc:\\Users\\loveb\\AppData\\Local\\Programs\\Python\\Python311\\Lib\\socket.py:706\u001b[0m, in \u001b[0;36mSocketIO.readinto\u001b[1;34m(self, b)\u001b[0m\n\u001b[0;32m    704\u001b[0m \u001b[38;5;28;01mwhile\u001b[39;00m \u001b[38;5;28;01mTrue\u001b[39;00m:\n\u001b[0;32m    705\u001b[0m     \u001b[38;5;28;01mtry\u001b[39;00m:\n\u001b[1;32m--> 706\u001b[0m         \u001b[38;5;28;01mreturn\u001b[39;00m \u001b[38;5;28;43mself\u001b[39;49m\u001b[38;5;241;43m.\u001b[39;49m\u001b[43m_sock\u001b[49m\u001b[38;5;241;43m.\u001b[39;49m\u001b[43mrecv_into\u001b[49m\u001b[43m(\u001b[49m\u001b[43mb\u001b[49m\u001b[43m)\u001b[49m\n\u001b[0;32m    707\u001b[0m     \u001b[38;5;28;01mexcept\u001b[39;00m timeout:\n\u001b[0;32m    708\u001b[0m         \u001b[38;5;28mself\u001b[39m\u001b[38;5;241m.\u001b[39m_timeout_occurred \u001b[38;5;241m=\u001b[39m \u001b[38;5;28;01mTrue\u001b[39;00m\n",
      "File \u001b[1;32mc:\\Users\\loveb\\AppData\\Local\\Programs\\Python\\Python311\\Lib\\ssl.py:1315\u001b[0m, in \u001b[0;36mSSLSocket.recv_into\u001b[1;34m(self, buffer, nbytes, flags)\u001b[0m\n\u001b[0;32m   1311\u001b[0m     \u001b[38;5;28;01mif\u001b[39;00m flags \u001b[38;5;241m!=\u001b[39m \u001b[38;5;241m0\u001b[39m:\n\u001b[0;32m   1312\u001b[0m         \u001b[38;5;28;01mraise\u001b[39;00m \u001b[38;5;167;01mValueError\u001b[39;00m(\n\u001b[0;32m   1313\u001b[0m           \u001b[38;5;124m\"\u001b[39m\u001b[38;5;124mnon-zero flags not allowed in calls to recv_into() on \u001b[39m\u001b[38;5;132;01m%s\u001b[39;00m\u001b[38;5;124m\"\u001b[39m \u001b[38;5;241m%\u001b[39m\n\u001b[0;32m   1314\u001b[0m           \u001b[38;5;28mself\u001b[39m\u001b[38;5;241m.\u001b[39m\u001b[38;5;18m__class__\u001b[39m)\n\u001b[1;32m-> 1315\u001b[0m     \u001b[38;5;28;01mreturn\u001b[39;00m \u001b[38;5;28;43mself\u001b[39;49m\u001b[38;5;241;43m.\u001b[39;49m\u001b[43mread\u001b[49m\u001b[43m(\u001b[49m\u001b[43mnbytes\u001b[49m\u001b[43m,\u001b[49m\u001b[43m \u001b[49m\u001b[43mbuffer\u001b[49m\u001b[43m)\u001b[49m\n\u001b[0;32m   1316\u001b[0m \u001b[38;5;28;01melse\u001b[39;00m:\n\u001b[0;32m   1317\u001b[0m     \u001b[38;5;28;01mreturn\u001b[39;00m \u001b[38;5;28msuper\u001b[39m()\u001b[38;5;241m.\u001b[39mrecv_into(buffer, nbytes, flags)\n",
      "File \u001b[1;32mc:\\Users\\loveb\\AppData\\Local\\Programs\\Python\\Python311\\Lib\\ssl.py:1167\u001b[0m, in \u001b[0;36mSSLSocket.read\u001b[1;34m(self, len, buffer)\u001b[0m\n\u001b[0;32m   1165\u001b[0m \u001b[38;5;28;01mtry\u001b[39;00m:\n\u001b[0;32m   1166\u001b[0m     \u001b[38;5;28;01mif\u001b[39;00m buffer \u001b[38;5;129;01mis\u001b[39;00m \u001b[38;5;129;01mnot\u001b[39;00m \u001b[38;5;28;01mNone\u001b[39;00m:\n\u001b[1;32m-> 1167\u001b[0m         \u001b[38;5;28;01mreturn\u001b[39;00m \u001b[38;5;28;43mself\u001b[39;49m\u001b[38;5;241;43m.\u001b[39;49m\u001b[43m_sslobj\u001b[49m\u001b[38;5;241;43m.\u001b[39;49m\u001b[43mread\u001b[49m\u001b[43m(\u001b[49m\u001b[38;5;28;43mlen\u001b[39;49m\u001b[43m,\u001b[49m\u001b[43m \u001b[49m\u001b[43mbuffer\u001b[49m\u001b[43m)\u001b[49m\n\u001b[0;32m   1168\u001b[0m     \u001b[38;5;28;01melse\u001b[39;00m:\n\u001b[0;32m   1169\u001b[0m         \u001b[38;5;28;01mreturn\u001b[39;00m \u001b[38;5;28mself\u001b[39m\u001b[38;5;241m.\u001b[39m_sslobj\u001b[38;5;241m.\u001b[39mread(\u001b[38;5;28mlen\u001b[39m)\n",
      "\u001b[1;31mKeyboardInterrupt\u001b[0m: "
     ]
    }
   ],
   "source": [
    "# Here we convert our malayalam text to speech using gTTS package. THe overall conversion may take upto 2 hrs\n",
    "\n",
    "from gtts import gTTS\n",
    "import os\n",
    "\n",
    "import time\n",
    "def read_text_file(filename):\n",
    "    with open(filename, 'r', encoding='utf-8') as file:\n",
    "        lines = file.readlines()\n",
    "    \n",
    "    l1 = []\n",
    "    current_book = []\n",
    "    \n",
    "    for line in lines:\n",
    "        line = line.strip()\n",
    "        if line == \"\":  # Assuming an empty line indicates the end of a book\n",
    "            if current_book:\n",
    "                l1.append(current_book)\n",
    "                current_book = []\n",
    "        else:\n",
    "            current_book.append(line)\n",
    "    \n",
    "    if current_book:  # Append the last book if there was no trailing empty line\n",
    "        l1.append(current_book)\n",
    "    \n",
    "    return l1\n",
    "\n",
    "l1=read_text_file('output.txt')\n",
    "if not os.path.exists(\"malayalam_bible\"):\n",
    "    os.makedirs(\"malayalam_bible\")\n",
    "k = 0\n",
    "for book, size in zip(l3, sizes):\n",
    "    for i in range(1, size + 1):  # Start enumeration at 1 for page numbers\n",
    "        tts = gTTS(text=l1[0][k], lang='ml', slow=False)\n",
    "        audio_file = os.path.join(\"malayalam_bible\", f\"{book} {i}.mp3\")\n",
    "        tts.save(audio_file)\n",
    "        k += 1\n",
    "        time.sleep(2)\n",
    "\n"
   ]
  },
  {
   "cell_type": "code",
   "execution_count": 40,
   "metadata": {},
   "outputs": [
    {
     "data": {
      "text/plain": [
       "'1\\xa0അപ്പോൾ പത്തു കൊമ്പും ഏഴു തലയും കൊമ്പുകളിൽ പത്തു രാജമുടിയും തലയിൽ ദൂഷണനാമങ്ങളും ഉള്ളൊരു മൃഗം സമുദ്രത്തിൽനിന്നു കയറുന്നത് ഞാൻ കണ്ടു. \\xa02\\xa0ഞാൻ കണ്ട മൃഗം പുള്ളിപ്പുലിക്കു സദൃശവും അതിന്റെ കാൽ കരടിയുടെ കാൽപോലെയും വായ് സിംഹത്തിന്റെ വായ്പോലെയും ആയിരുന്നു. അതിനു മഹാസർപ്പം തന്റെ ശക്തിയും സിംഹാസനവും വലിയ അധികാരവും കൊടുത്തു. \\xa03\\xa0അതിന്റെ തലകളിൽ ഒന്നു മരണകരമായ മുറിവേറ്റതുപോലെ ഞാൻ കണ്ടു; അതിന്റെ മരണകരമായ മുറിവു പൊറുത്തുപോയി; സർവഭൂമിയും മൃഗത്തെ കണ്ടു വിസ്മയിച്ചു. \\xa04\\xa0മൃഗത്തിന് അധികാരം കൊടുത്തതുകൊണ്ട് അവർ മഹാസർപ്പത്തെ നമസ്കരിച്ചു: മൃഗത്തോടു തുല്യൻ ആർ? അതിനോടു പൊരുതുവാൻ ആർക്കു കഴിയും എന്നു പറഞ്ഞു മൃഗത്തെയും നമസ്കരിച്ചു. \\xa05\\xa0വമ്പും ദൂഷണവും സംസാരിക്കുന്ന വായ് അതിനു ലഭിച്ചു; നാല്പത്തിരണ്ടു മാസം പ്രവർത്തിപ്പാൻ അധികാരവും ലഭിച്ചു. \\xa06\\xa0അത് ദൈവത്തിന്റെ നാമത്തെയും അവന്റെ കൂടാരത്തെയും സ്വർഗത്തിൽ വസിക്കുന്നവരെയും ദുഷിപ്പാൻ ദൈവദൂഷണത്തിനായി വായ്തുറന്നു. \\xa07\\xa0വിശുദ്ധന്മാരോടു യുദ്ധം ചെയ്ത് അവരെ ജയിപ്പാനും അതിന് അധികാരം ലഭിച്ചു; സകല ഗോത്രത്തിന്മേലും വംശത്തിന്മേലും ഭാഷമേലും ജാതിമേലും അധികാരവും ലഭിച്ചു. \\xa08\\xa0ലോകസ്ഥാപനംമുതൽ അറുക്കപ്പെട്ട കുഞ്ഞാടിന്റെ ജീവപുസ്തകത്തിൽ പേർ എഴുതീട്ടില്ലാത്ത ഭൂവാസികളൊക്കെയും അതിനെ നമസ്കരിക്കും. \\xa09\\xa0ചെവിയുള്ളവൻ കേൾക്കട്ടെ. \\xa010\\xa0അടിമയാക്കി കൊണ്ടുപോകുന്നവൻ അടിമയായിപ്പോകും; വാൾകൊണ്ടു കൊല്ലുന്നവൻ വാളാൽ മരിക്കേണ്ടിവരും: ഇവിടെ വിശുദ്ധന്മാരുടെ സഹിഷ്ണുതയും വിശ്വാസവും കൊണ്ട് ആവശ്യം. \\xa011\\xa0മറ്റൊരു മൃഗം ഭൂമിയിൽനിന്നു കയറുന്നത് ഞാൻ കണ്ടു; അതിനു കുഞ്ഞാടിനുള്ളതുപോലെ രണ്ടു കൊമ്പുണ്ടായിരുന്നു; അത് മഹാസർപ്പം എന്നപോലെ സംസാരിച്ചു. \\xa012\\xa0അത് ഒന്നാമത്തെ മൃഗത്തിന്റെ മുമ്പാകെ അതിന്റെ അധികാരം എല്ലാം നടത്തി ഭൂമിയെയും അതിൽ വസിക്കുന്നവരെയും മരണകരമായ മുറിവു പൊറുത്തുപോയ ഒന്നാം മൃഗത്തെ നമസ്കരിക്കുമാറാക്കുന്നു. \\xa013\\xa0അത് മനുഷ്യർ കാൺകെ ആകാശത്തുനിന്നു ഭൂമിയിലേക്കു തീ ഇറങ്ങുമാറ് വലിയ അടയാളങ്ങൾ പ്രവർത്തിക്കയും \\xa014\\xa0മൃഗത്തിന്റെ മുമ്പിൽ പ്രവർത്തിപ്പാൻ തനിക്കു ബലം കിട്ടിയ അടയാളങ്ങളെക്കൊണ്ടു ഭൂവാസികളെ തെറ്റിക്കുകയും വാളാൽ മുറിവേറ്റിട്ടും ജീവിച്ച മൃഗത്തിനു പ്രതിമ ഉണ്ടാക്കുവാൻ ഭൂവാസികളോടു പറകയും ചെയ്യുന്നു. \\xa015\\xa0മൃഗത്തിന്റെ പ്രതിമ സംസാരിക്കേണ്ടതിനും മൃഗത്തിന്റെ പ്രതിമയെ നമസ്കരിക്കാത്തവരെയൊക്കെയും കൊല്ലിക്കേണ്ടതിനും മൃഗത്തിന്റെ പ്രതിമയ്ക്ക് ആത്മാവിനെ കൊടുപ്പാൻ അതിനു ബലം ലഭിച്ചു. \\xa016\\xa0അത് ചെറിയവരും വലിയവരും സമ്പന്നന്മാരും ദരിദ്രന്മാരും സ്വതന്ത്രന്മാരും ദാസന്മാരുമായ എല്ലാവർക്കും വലംകൈമേലോ നെറ്റിയിലോ മുദ്ര കിട്ടുമാറും \\xa017\\xa0മൃഗത്തിന്റെ പേരോ പേരിന്റെ സംഖ്യയോ ആയ മുദ്രയുള്ളവനല്ലാതെ വാങ്ങുകയോ വില്ക്കുകയോ ചെയ്\\u200cവാൻ വഹിയാതെയും ആക്കുന്നു. \\xa018\\xa0ഇവിടെ ജ്ഞാനംകൊണ്ട് ആവശ്യം. ബുദ്ധിയുള്ളവൻ മൃഗത്തിന്റെ സംഖ്യ ഗണിക്കട്ടെ: അത് ഒരു മനുഷ്യന്റെ സംഖ്യയത്രേ. അതിന്റെ സംഖ്യ അറുനൂറ്ററുപത്താറ്.'"
      ]
     },
     "execution_count": 40,
     "metadata": {},
     "output_type": "execute_result"
    }
   ],
   "source": []
  },
  {
   "cell_type": "code",
   "execution_count": 30,
   "metadata": {},
   "outputs": [
    {
     "name": "stdout",
     "output_type": "stream",
     "text": [
      "['\\xa01\\xa0ആ നാഴികയിൽ ശിഷ്യന്മാർ യേശുവിന്റെ അടുക്കെ വന്നു. സ്വർഗ്ഗരാജ്യത്തിൽ ഏറ്റവും വലിയവൻ ആർ എന്നു ചോദിച്ചു.', '\\xa02\\xa0അവൻ ഒരു ശിശുവിനെ അടുക്കെ വിളിച്ചു അവരുടെ നടുവിൽ നിറുത്തി:', '\\xa03\\xa0നിങ്ങൾ തിരിഞ്ഞു ശിശുക്കളെപ്പോലെ ആയ്\\u200cവരുന്നില്ല എങ്കിൽ സ്വർഗ്ഗരാജ്യത്തിൽ കടക്കയില്ല എന്നു ഞാൻ സത്യമായിട്ടു നിങ്ങളോടു പറയുന്നു.', '\\xa04\\xa0ആകയാൽ ഈ ശിശുവിനെപ്പോലെ തന്നെത്താൻ താഴ്ത്തുന്നവൻ സ്വർഗ്ഗരാജ്യത്തിൽ ഏറ്റവും വലിയവൻ ആകുന്നു.', '\\xa05\\xa0ഇങ്ങനെയുള്ള ശിശുവിനെ എന്റെ നാമത്തിൽ കൈകൊള്ളുന്നവൻ എന്നെ കൈക്കൊള്ളുന്നു.', '\\xa06\\xa0എന്നിൽ വിശ്വസിക്കുന്ന ഈ ചെറിയവരിൽ ഒരുത്തന്നു ആരെങ്കിലും ഇടർച്ച വരുത്തിയാലോ അവന്റെ കഴുത്തിൽ വലിയോരു തിരിക്കല്ലു കെട്ടി അവനെ സമുദ്രത്തിന്റെ ആഴത്തിൽ താഴ്ത്തിക്കളയുന്നതു അവന്നു നന്നു.', '\\xa07\\xa0ഇടർച്ച ഹേതുവായി ലോകത്തിന്നു അയ്യോ കഷ്ടം; ഇടർച്ച വരുന്നതു ആവശ്യം തന്നേ; എങ്കിലും ഇടർച്ച വരുത്തുന്ന മനുഷ്യന്നു അയ്യോ കഷ്ടം.', '\\xa08\\xa0നിന്റെ കയ്യോ കാലോ നിനക്കു ഇടർച്ച ആയാൽ അതിനെ വെട്ടി എറിഞ്ഞുകളക; രണ്ടു കയ്യും രണ്ടു കാലും ഉള്ളവനായി നിത്യാഗ്നിയിൽ വീഴുന്നതിനെക്കാൾ അംഗഹീനനായിട്ടോ മുടന്തനായിട്ടോ ജീവനിൽ കടക്കുന്നതു നിനക്കു നന്നു.', '\\xa09\\xa0നിന്റെ കണ്ണു നിനക്കു ഇടർച്ച ആയാൽ അതിനെ ചൂന്നെടുത്തു എറിഞ്ഞുകളക; രണ്ടു കണ്ണുള്ളവനായി അഗ്നിനരകത്തിൽ വീഴുന്നതിനെക്കാൾ ഒററക്കണ്ണനായി ജീവനിൽ കടക്കുന്നതു നിനക്കു നന്നു.', '\\xa010\\xa0ഈ ചെറിയവരിൽ ഒരുത്തനെ തുച്ഛീകരിക്കാതിരിപ്പാൻ സൂക്ഷിച്ചുകൊൾവിൻ.', '\\xa011\\xa0സ്വർഗ്ഗത്തിൽ അവരുടെ ദൂതന്മാർ സ്വർഗ്ഗസ്ഥനായ എന്റെ പിതാവിന്റെ മുഖം എപ്പോഴും കാണുന്നു എന്നു ഞാൻ നിങ്ങളോടു പറയുന്നു.', '\\xa012\\xa0നിങ്ങൾക്കു എന്തു തോന്നുന്നു? ഒരു മനുഷ്യന്നു നൂറു ആടു ഉണ്ടു എന്നിരിക്കട്ടെ; അവയിൽ ഒന്നു തെററി ഉഴന്നുപോയാൽ തൊണ്ണൂറ്റൊമ്പതിനെയും വിട്ടേച്ചു തെററിപ്പോയതിനെ മലകളിൽ ചെന്നു തിരയുന്നില്ലയോ?', '\\xa013\\xa0അതിനെ കണ്ടെത്തിയാൽ തെറ്റിപ്പോകാത്ത തൊണ്ണൂറ്റൊമ്പതിലും അധികം അതിനെക്കുറിച്ചു സന്തോഷിക്കും എന്നു ഞാൻ സത്യമായിട്ടു നിങ്ങളോടു പറയുന്നു.', '\\xa014\\xa0അങ്ങനെതന്നേ ഈ ചെറിയവരിൽ ഒരുത്തൻ നശിച്ചുപോകുന്നതു സ്വർഗ്ഗസ്ഥനായ നിങ്ങളുടെ പിതാവിന്നു ഇഷ്ടമല്ല.', '\\xa015\\xa0നിന്റെ സഹോദരൻ നിന്നോടു പിഴെച്ചാൽ നീ ചെന്നു നീയും അവനും മാത്രം ഉള്ളപ്പോൾ കുറ്റം അവനു ബോധം വരുത്തുക; അവൻ നിന്റെ വാക്കു കേട്ടാൽ നീ സഹോദരനെ നേടി.', '\\xa016\\xa0കേൾക്കാഞ്ഞാലോ രണ്ടു മൂന്നു സാക്ഷികളുടെ വായാൽ സകല കാര്യവും ഉറപ്പാകേണ്ടതിന്നു ഒന്നു രണ്ടു പേരെ കൂട്ടിക്കൊണ്ടു ചെല്ലുക.', '\\xa017\\xa0അവരെ കൂട്ടാക്കാഞ്ഞാൽ സഭയോടു അറിയിക്ക; സഭയെയും കൂട്ടാക്കാഞ്ഞാൽ അവൻ നിനക്കു പുറജാതിക്കാരനും ചുങ്കക്കാരനും എന്നപോലെ ഇരിക്കട്ടെ.', '\\xa018\\xa0നിങ്ങൾ ഭൂമിയിൽ കെട്ടുന്നതെല്ലാം സ്വർഗ്ഗത്തിലും കെട്ടപ്പെട്ടിരിക്കും; നിങ്ങൾ ഭൂമിയിൽ അഴിക്കുന്നതെല്ലാം സ്വർഗ്ഗത്തിലും അഴിഞ്ഞിരിക്കും എന്നു ഞാൻ സത്യമായിട്ടു നിങ്ങളോടു പറയുന്നു.', '\\xa019\\xa0ഭൂമിയിൽവെച്ചു നിങ്ങളിൽ രണ്ടുപേർ യാചിക്കുന്ന ഏതു കാര്യത്തിലും ഐകമത്യപ്പെട്ടാൽ അതു സ്വർഗ്ഗസ്ഥനായ എന്റെ പിതാവിങ്കൽ നിന്നു അവർക്കു ലഭിക്കും;', '\\xa020\\xa0രണ്ടോ മൂന്നോ പേർ എന്റെ നാമത്തിൽ കൂടിവരുന്നേടത്തൊക്കയും ഞാൻ അവരുടെ നടുവിൽ ഉണ്ടു എന്നും ഞാൻ നിങ്ങളോടു പറയുന്നു.', '\\xa021\\xa0അപ്പോൾ പത്രൊസ് അവന്റെ അടുക്കൽ വന്നു: കർത്താവേ, സഹോദരൻ എത്രവട്ടം എന്നോടു പിഴച്ചാൽ ഞാൻ ക്ഷമിക്കേണം?', '\\xa022\\xa0ഏഴുവട്ടം മതിയോ എന്നു ചോദിച്ചു. യേശു അവനോടു: ഏഴുവട്ടമല്ല, എഴു എഴുപതു വട്ടം എന്നു ഞാൻ നിന്നോടു പറയുന്നു എന്നു പറഞ്ഞു.', '\\xa023\\xa0സ്വർഗ്ഗരാജ്യം തന്റെ ദാസന്മാരുമായി കണക്കു തീർപ്പാൻ ഭാവിക്കുന്ന ഒരു രാജാവിനോടു സദൃശം.', '\\xa024\\xa0അവൻ കണക്കു നോക്കിത്തുടങ്ങിയപ്പോൾ പതിനായിരം താലന്തു കടമ്പെട്ട ഒരുത്തനെ അവന്റെ അടുക്കൽ കൊണ്ടുവന്നു.', '\\xa025\\xa0അവന്നു വീട്ടുവാൻ വകയില്ലായ്കയാൽ അവന്റെ യജമാനൻ അവനെയും ഭാര്യയെയും മക്കളെയും അവന്നുള്ളതൊക്കെയും വിറ്റു കടം തീർപ്പാൻ കല്പിച്ചു.', '\\xa026\\xa0അതുകൊണ്ടു ആ ദാസൻ വീണു അവനെ നമസ്കരിച്ചു: യജമാനനേ എന്നോടു ക്ഷമ തോന്നേണമേ; ഞാൻ സകലവും തന്നു തീർക്കാം എന്നു പറഞ്ഞു.', '\\xa027\\xa0അപ്പോൾ ആ ദാസന്റെ യജമാനൻ മനസ്സലിഞ്ഞു അവനെ വിട്ടയച്ചു കടവും ഇളെച്ചുകൊടുത്തു.', '\\xa028\\xa0ആ ദാസൻ പോകുമ്പോൾ തനിക്കു നൂറു വെള്ളിക്കാശു കടമ്പെട്ട ഒരു കൂട്ടുദാസനെ കണ്ടു തൊണ്ടെക്കു പിടിച്ചു ഞെക്കി: നിന്റെ കടം തീർക്കുക എന്നു പറഞ്ഞു.', '\\xa029\\xa0അവന്റെ കൂട്ടുദാസൻ: എന്നോടു ക്ഷമ തോന്നേണമേ; ഞാൻ തന്നു തീർക്കാം എന്നു അവനോടു അപേക്ഷിച്ചു.', '\\xa030\\xa0എന്നാൽ അവൻ മനസ്സില്ലാതെ ഉടനെ ചെന്നു കടം വീട്ടുവോളം അവനെ തടവിൽ ആക്കിച്ചു.', '\\xa031\\xa0ഈ സംഭവിച്ചതു അവന്റെ കൂട്ടുദാസന്മാർ കണ്ടിട്ടു വളരെ ദുഃഖിച്ചു, ചെന്നു സംഭവിച്ചതു ഒക്കെയും യജമാനനെ ബോധിപ്പിച്ചു.', '\\xa032\\xa0യജമാനൻ അവനെ വിളിച്ചു: ദുഷ്ടദാസനേ, നീ എന്നോടു അപേക്ഷിക്കയാൽ ഞാൻ ആ കടം ഒക്കെയും ഇളെച്ചുതന്നുവല്ലോ.', '\\xa033\\xa0എനിക്കു നിന്നോടു കരുണ തോന്നിയതുപോലെ നിനക്കും കൂട്ടുദാസനോടു കരുണ തോന്നേണ്ടതല്ലയോ എന്നു പറഞ്ഞു.', '\\xa034\\xa0അങ്ങനെ യജമാനൻ കോപിച്ചു, അവൻ കടമൊക്കെയും തീർക്കുവോളം അവനെ ദണ്ഡിപ്പിക്കുന്നവരുടെ കയ്യിൽ ഏല്പിച്ചു.', '\\xa035\\xa0നിങ്ങൾ ഓരോരുത്തൻ സഹോദരനോടു ഹൃദയപൂർവ്വം ക്ഷമിക്കാഞ്ഞാൽ സ്വർഗ്ഗസ്ഥനായ എന്റെ പിതാവു അങ്ങനെ തന്നേ നിങ്ങളോടും ചെയ്യും.']\n"
     ]
    }
   ],
   "source": []
  },
  {
   "cell_type": "code",
   "execution_count": null,
   "metadata": {},
   "outputs": [],
   "source": []
  }
 ],
 "metadata": {
  "kernelspec": {
   "display_name": "Python 3",
   "language": "python",
   "name": "python3"
  },
  "language_info": {
   "codemirror_mode": {
    "name": "ipython",
    "version": 3
   },
   "file_extension": ".py",
   "mimetype": "text/x-python",
   "name": "python",
   "nbconvert_exporter": "python",
   "pygments_lexer": "ipython3",
   "version": "3.11.7"
  }
 },
 "nbformat": 4,
 "nbformat_minor": 2
}
